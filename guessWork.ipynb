{
 "cells": [
  {
   "cell_type": "code",
   "execution_count": 1,
   "id": "ad5533ea",
   "metadata": {},
   "outputs": [
    {
     "name": "stdout",
     "output_type": "stream",
     "text": [
      "5\n"
     ]
    }
   ],
   "source": [
    "days = 5 \n",
    "print(days)"
   ]
  },
  {
   "cell_type": "markdown",
   "id": "2bffcbc0",
   "metadata": {},
   "source": [
    "#### Variables- They store values"
   ]
  },
  {
   "cell_type": "code",
   "execution_count": 2,
   "id": "2e262076",
   "metadata": {},
   "outputs": [
    {
     "name": "stdout",
     "output_type": "stream",
     "text": [
      "Hello World!\n"
     ]
    }
   ],
   "source": [
    "greetings = \"Hello World\"\n",
    "print(\"Hello World!\")"
   ]
  },
  {
   "cell_type": "code",
   "execution_count": 3,
   "id": "5da4df87",
   "metadata": {},
   "outputs": [
    {
     "name": "stdout",
     "output_type": "stream",
     "text": [
      "14\n"
     ]
    }
   ],
   "source": [
    "x = 5\n",
    "y = 9\n",
    "print(x+y)"
   ]
  },
  {
   "cell_type": "markdown",
   "id": "921e72f7",
   "metadata": {},
   "source": [
    "Assignment - diff data types and their methods."
   ]
  },
  {
   "cell_type": "code",
   "execution_count": 4,
   "id": "341813c6",
   "metadata": {},
   "outputs": [
    {
     "ename": "ValueError",
     "evalue": "invalid literal for int() with base 10: 'e'",
     "output_type": "error",
     "traceback": [
      "\u001b[0;31m---------------------------------------------------------------------------\u001b[0m",
      "\u001b[0;31mValueError\u001b[0m                                Traceback (most recent call last)",
      "Cell \u001b[0;32mIn[4], line 1\u001b[0m\n\u001b[0;32m----> 1\u001b[0m year \u001b[38;5;241m=\u001b[39m\u001b[38;5;28mint\u001b[39m(\u001b[38;5;28minput\u001b[39m(\u001b[38;5;124m\"\u001b[39m\u001b[38;5;124mWhat year were you born?\u001b[39m\u001b[38;5;124m\"\u001b[39m))\n\u001b[1;32m      2\u001b[0m age \u001b[38;5;241m=\u001b[39m \u001b[38;5;241m2025\u001b[39m \u001b[38;5;241m-\u001b[39m year\n\u001b[1;32m      3\u001b[0m \u001b[38;5;28mprint\u001b[39m(\u001b[38;5;124mf\u001b[39m\u001b[38;5;124m\"\u001b[39m\u001b[38;5;124mYou are \u001b[39m\u001b[38;5;132;01m{\u001b[39;00mage\u001b[38;5;132;01m}\u001b[39;00m\u001b[38;5;124m years old\u001b[39m\u001b[38;5;124m\"\u001b[39m)\n",
      "\u001b[0;31mValueError\u001b[0m: invalid literal for int() with base 10: 'e'"
     ]
    }
   ],
   "source": [
    "year =int(input(\"What year were you born?\"))\n",
    "age = 2025 - year\n",
    "print(f\"You are {age} years old\")"
   ]
  },
  {
   "cell_type": "markdown",
   "id": "97d89bca",
   "metadata": {},
   "source": [
    "#### Control Flows\n",
    "-If else statement\n"
   ]
  },
  {
   "cell_type": "code",
   "execution_count": null,
   "id": "09ba1927",
   "metadata": {},
   "outputs": [],
   "source": [
    "age = int(input(\"Enter your age:\"))\n",
    "if(age >= 18):\n",
    "    print(\"adult\")\n",
    "else:\n",
    "    print('minor')"
   ]
  },
  {
   "cell_type": "markdown",
   "id": "be42fc56",
   "metadata": {},
   "source": [
    "#### LOOPS\n",
    "\n",
    "#### FOR LOOPS"
   ]
  },
  {
   "cell_type": "code",
   "execution_count": null,
   "id": "7211f21f",
   "metadata": {},
   "outputs": [],
   "source": [
    "for i in range(1,11):\n",
    "    print(i,end = \"\")\n",
    "    \n"
   ]
  },
  {
   "cell_type": "code",
   "execution_count": null,
   "id": "f34514c2",
   "metadata": {},
   "outputs": [],
   "source": [
    "fruits = [\"Mangoes\", \"Apples\", \"Oranges\", \"Bananas\", \"Strawberries\"]\n",
    "\n",
    "for x in fruits:\n",
    "    print(x, end = \",\")"
   ]
  },
  {
   "cell_type": "markdown",
   "id": "547c1268",
   "metadata": {},
   "source": [
    "#### WHILE LOOPS"
   ]
  },
  {
   "cell_type": "code",
   "execution_count": null,
   "id": "0f5094a5",
   "metadata": {},
   "outputs": [],
   "source": [
    "count = 1\n",
    "while count <= 5: \n",
    "    print(\"Counting:\", count)\n",
    "    count += 1"
   ]
  },
  {
   "cell_type": "markdown",
   "id": "ea36dd94",
   "metadata": {},
   "source": [
    "#### More control flows \n",
    "#### 1. Break -- iterates until condition has been met\n",
    "#### 2. Continue\n",
    "#### 3. Pass - does nothing, its a placeholder in a loop"
   ]
  },
  {
   "cell_type": "code",
   "execution_count": null,
   "id": "2053633b",
   "metadata": {},
   "outputs": [],
   "source": [
    "numbers = range(11)\n",
    "\n",
    "for number in numbers:\n",
    "     print(number)\n",
    "     if number == 5:\n",
    "        break\n",
    "\n",
    "   "
   ]
  },
  {
   "cell_type": "markdown",
   "id": "2beec35e",
   "metadata": {},
   "source": [
    "#### List Comprehension - shortcut for creating lists using loops\n",
    "\n"
   ]
  },
  {
   "cell_type": "code",
   "execution_count": null,
   "id": "377a00dc",
   "metadata": {},
   "outputs": [],
   "source": [
    "squares = [number ** 2 for number in numbers]\n",
    "print(squares)"
   ]
  },
  {
   "cell_type": "code",
   "execution_count": null,
   "id": "b59935b4",
   "metadata": {},
   "outputs": [],
   "source": [
    "cubes = [number ** 3 for number in numbers]\n",
    "print(cubes)"
   ]
  },
  {
   "cell_type": "code",
   "execution_count": null,
   "id": "f20a897d",
   "metadata": {},
   "outputs": [],
   "source": [
    "even = [number for number in numbers if number % 2 == 0]\n",
    "print(even)"
   ]
  },
  {
   "cell_type": "code",
   "execution_count": null,
   "id": "04c3d8fe",
   "metadata": {},
   "outputs": [],
   "source": [
    "odd = [number for number in numbers if number % 2 != 0]\n",
    "print(odd)"
   ]
  },
  {
   "cell_type": "markdown",
   "id": "df1d4841",
   "metadata": {},
   "source": [
    "#### READ ON  --- Dictionary Comprehensions"
   ]
  },
  {
   "cell_type": "markdown",
   "id": "772d6a19",
   "metadata": {},
   "source": [
    "#### FUNCTIONS - groups code into reusabke blocks"
   ]
  },
  {
   "cell_type": "code",
   "execution_count": null,
   "id": "affbc7ee",
   "metadata": {},
   "outputs": [],
   "source": [
    "def add(x,y):\n",
    "    return x + y\n",
    "add_1 = add(6,7)\n",
    "print(add_1)"
   ]
  },
  {
   "cell_type": "code",
   "execution_count": null,
   "id": "ed6859e5",
   "metadata": {},
   "outputs": [],
   "source": [
    "add_2 = add(100,2)\n",
    "print(add_2)"
   ]
  },
  {
   "cell_type": "code",
   "execution_count": null,
   "id": "fbd7a6ae",
   "metadata": {},
   "outputs": [],
   "source": [
    "def greet(name):\n",
    "    return f\"Hello {name}\"\n",
    "\n",
    "greet_1 = greet(\"wick\")\n",
    "print(greet_1)\n",
    "\n"
   ]
  },
  {
   "cell_type": "markdown",
   "id": "15fbaf82",
   "metadata": {},
   "source": [
    "#### Lambda functions - A one line function"
   ]
  },
  {
   "cell_type": "code",
   "execution_count": null,
   "id": "21f111ca",
   "metadata": {},
   "outputs": [],
   "source": [
    "addition = lambda a,b: a+b\n",
    "addition(10,2)"
   ]
  },
  {
   "cell_type": "code",
   "execution_count": null,
   "id": "2d240585",
   "metadata": {},
   "outputs": [],
   "source": [
    "greetinggs = lambda name: f\"Hello,{name}\"\n",
    "greetinggs(\"Josiah\")"
   ]
  },
  {
   "cell_type": "code",
   "execution_count": null,
   "id": "56962611",
   "metadata": {},
   "outputs": [],
   "source": [
    "def even_or_odd(number):\n",
    "    if number % 2 == 0:\n",
    "        return \"The number is even\"\n",
    "    else:\n",
    "        return \"The number is odd\"\n",
    "\n",
    "input = int(input(\"Enter a number: \"))\n",
    "\n",
    "result = even_or_odd(input)\n",
    "print(result)\n",
    "\n"
   ]
  },
  {
   "cell_type": "code",
   "execution_count": null,
   "id": "aabc8280",
   "metadata": {},
   "outputs": [],
   "source": [
    "figures = range(51)\n",
    "divisible_by_three = [ figure for figure in figures if figure % 3 == 0]\n",
    "print(divisible_by_three)\n"
   ]
  },
  {
   "cell_type": "markdown",
   "id": "70d2b532",
   "metadata": {},
   "source": [
    "#### DATA STRUCTURES\n",
    "\n",
    "1.LIST \n",
    "- denoted by []\n"
   ]
  },
  {
   "cell_type": "code",
   "execution_count": null,
   "id": "3984b9fe",
   "metadata": {},
   "outputs": [],
   "source": [
    "####list\n",
    "fruits = [\"Mangoes\", \"Apples\", \"Oranges\", \"Bananas\", \"Strawberries\"]\n"
   ]
  },
  {
   "cell_type": "markdown",
   "id": "6e2d2930",
   "metadata": {},
   "source": [
    "2. Tuples\n",
    "-Ordered but immutable\n",
    "-Has 2 methods - count, indexed"
   ]
  },
  {
   "cell_type": "code",
   "execution_count": null,
   "id": "6d9d8a22",
   "metadata": {},
   "outputs": [],
   "source": [
    "image_dimensions = (1920,1080)\n"
   ]
  },
  {
   "cell_type": "markdown",
   "id": "68b28305",
   "metadata": {},
   "source": [
    "3. SETS\n",
    "- unordered and only contains unique items\n",
    "- it doesnt take duplicates\n",
    "-methods: unions, intersections etc"
   ]
  },
  {
   "cell_type": "code",
   "execution_count": null,
   "id": "0c968d96",
   "metadata": {},
   "outputs": [],
   "source": [
    "set_1= {1,2,3,3,4,5}\n",
    "print(set_1)"
   ]
  },
  {
   "cell_type": "markdown",
   "id": "58df379e",
   "metadata": {},
   "source": [
    "4. DICTIONARIES\n",
    "-Have key value pairs\n",
    "-Are great for structurd data"
   ]
  },
  {
   "cell_type": "code",
   "execution_count": null,
   "id": "e6948b31",
   "metadata": {},
   "outputs": [],
   "source": [
    "person = {\"name\": \"Naomi\" , \"age\": 30}\n",
    "print(person)"
   ]
  },
  {
   "cell_type": "code",
   "execution_count": null,
   "id": "47ed46c0",
   "metadata": {},
   "outputs": [],
   "source": [
    "import pandas as pd\n",
    "\n",
    "data = {\n",
    "    \"Name\": ['Isaac', 'Claire', 'Samson'],\n",
    "    \"Age\": [27, 30, 35],\n",
    "    \"Fruit\": [\"Mangoes\", \"Bananas\", \"Oranges\"]\n",
    "}\n",
    "\n",
    "df = pd.DataFrame(data)\n",
    "print(df.head())\n"
   ]
  },
  {
   "cell_type": "markdown",
   "id": "0fc7eb37",
   "metadata": {},
   "source": [
    "#### INDEXING AND SLICING\n",
    "- Slicing returns a new list without altering the list"
   ]
  },
  {
   "cell_type": "code",
   "execution_count": 6,
   "id": "0b72abc4",
   "metadata": {},
   "outputs": [
    {
     "name": "stdout",
     "output_type": "stream",
     "text": [
      "Oranges\n"
     ]
    }
   ],
   "source": [
    "fruits = [\"Mangoes\", \"Apples\", \"Oranges\", \"Bananas\", \"Strawberries\"]\n",
    "print(fruits[2])"
   ]
  },
  {
   "cell_type": "code",
   "execution_count": null,
   "id": "06dbd752",
   "metadata": {},
   "outputs": [
    {
     "name": "stdout",
     "output_type": "stream",
     "text": [
      "['Apples', 'Oranges', 'Bananas', 'Strawberries']\n",
      "['Mangoes', 'Apples', 'Oranges']\n",
      "['Mangoes', 'Apples', 'Oranges', 'Bananas', 'Strawberries']\n",
      "['Apples', 'Oranges']\n",
      "['Mangoes', 'Apples', 'Oranges', 'Bananas', 'Strawberries']\n"
     ]
    }
   ],
   "source": [
    "print(fruits[1:])\n",
    "print(fruits[:3])\n",
    "print(fruits)\n",
    "print(fruits[1:3])\n",
    "print(fruits[:5])"
   ]
  },
  {
   "cell_type": "markdown",
   "id": "51c9bbc8",
   "metadata": {},
   "source": [
    "#### FILE INPUT / OUTPUT\n",
    "-read() -> used to read files in python\n",
    "-write() -> used to write files in python\n",
    "-with statement is used in the file input/output"
   ]
  },
  {
   "cell_type": "code",
   "execution_count": 15,
   "id": "c572c96c",
   "metadata": {},
   "outputs": [],
   "source": [
    "with open(\"sample.txt\", \"w\") as file:\n",
    "    file.write(\"Hello, World\\nMy name is Raymond\")\n"
   ]
  },
  {
   "cell_type": "code",
   "execution_count": 17,
   "id": "5a064103",
   "metadata": {},
   "outputs": [
    {
     "name": "stdout",
     "output_type": "stream",
     "text": [
      "Hello, World\n",
      "My name is Raymond\n"
     ]
    }
   ],
   "source": [
    "with open(r\"sample.txt\") as file:\n",
    "    content = file.read()\n",
    "    print(content)"
   ]
  },
  {
   "cell_type": "code",
   "execution_count": 21,
   "id": "0b5dcfd1",
   "metadata": {},
   "outputs": [
    {
     "name": "stdout",
     "output_type": "stream",
     "text": [
      "\"Product\",\"Current price\",\"old price\",\"Discount\",\"Review\",\"Ratingd\"\n",
      "\"115  Piece Set Of Multifunctional Precision Screwdrivers\",\"KSh 950\",\"KSh 1,525\",\"38%\",\"(2)\",\"4.5 out of 5\"\n",
      "\"Metal Decorative Hooks Key Hangers Entryway Wall Hooks Towel Hooks - Home\",\"KSh 527\",\"KSh 999\",\"47%\",\"(14)\",\"4.1 out of 5\"\n",
      "\"Portable Mini Cordless Car Vacuum Cleaner - Blue\",\"KSh 2,199\",\"KSh 2,923\",\"25%\",\"(24)\",\"4.6 out of 5\"\n",
      "\"Weighing Scale Digital Bathroom Body Fat Scale USB-Black\",\"KSh 1,580\",\"KSh 2,499\",\"37%\",\"(7)\",\"4.7 out of 5\"\n",
      "\"Portable Home Small Air Humidifier 3-Speed Fan - Green\",\"KSh 1,740\",\"KSh 2,356\",\"26%\",\"(5)\",\"4.8 out of 5\"\n",
      "\"220V 60W Electric Soldering Iron Kits With Tools, Tips, And Multimeter\",\"KSh 2,999\",\"KSh 3,290\",\"9%\",\"(15)\",\"4 out of 5\"\n",
      "\"137 Pieces Cake Decorating Tool Set Baking Supplies\",\"KSh 2,319\",\"KSh 3,032\",\"24%\",\"(55)\",\"4.6 out of 5\"\n",
      "\"Desk Foldable Fan Adjustable Fan Strong Wind 3 Gear Usb\",\"KSh 988\",\"KSh 1,580\",\"37%\",\"(2)\",\"4 out of 5\"\n",
      "\"LASA FOLDING TABLE SERVING STAND\",\"KSh 1,274\",\"KSh 2,800\",\"55%\",\"(5)\",\"4.8 out of 5\"\n",
      "\"13 In 1 Home Repair Tools Box Kit Set\",\"KSh 1,600\",\"KSh 2,929\",\"45%\",\"(5)\",\"3.8 out of 5\"\n",
      "\"Genebre 115 In 1 Screwdriver Repairing Tool Set For IPhone Cellphone Hand Tool\",\"KSh 799\",\"KSh 999\",\"20%\",\"(12)\",\"4.1 out of 5\"\n",
      "\"100 Pcs Crochet Hook Tool Set Knitting Hook Set With Box\",\"KSh 990\",\"KSh 1,500\",\"34%\",\"(39)\",\"4.7 out of 5\"\n",
      "\"40cm Gold DIY Acrylic Wall Sticker Clock\",\"KSh 552\",\"KSh 1,035\",\"47%\",\"(12)\",\"4.8 out of 5\"\n",
      "\"LASA Digital Thermometer And Hydrometer\",\"KSh 501\",\"KSh 860\",\"42%\",\"(6)\",\"4.5 out of 5\"\n",
      "\"Multifunction Laser Level With Adjustment Tripod\",\"KSh 1,680\",\"KSh 2,499\",\"33%\",\"(9)\",\"4.2 out of 5\"\n",
      "\"Anti-Skid Absorbent Insulation Coaster  For Home Office\",\"KSh 332\",\"KSh 684\",\"51%\",\"(2)\",\"5 out of 5\"\n",
      "\"Peacock  Throw Pillow Cushion Case For Home Car\",\"KSh 195\",\"KSh 360\",\"46%\",\"(2)\",\"5 out of 5\"\n",
      "\"LASA Aluminum Folding Truck Hand Cart - 68kg Max\",\"KSh 2,025\",\"KSh 3,971\",\"49%\",\"(3)\",\"5 out of 5\"\n",
      "\"LED Wall Digital Alarm Clock Study Home 12 / 24H Clock Calendar\",\"KSh 2,999\",\"KSh 3,699\",\"19%\",\"(5)\",\"4.6 out of 5\"\n",
      "\"3D Waterproof EVA Plastic Shower Curtain 1.8*2Mtrs\",\"KSh 998\",\"KSh 1,966\",\"49%\",\"(44)\",\"4.6 out of 5\"\n",
      "\"3PCS Single Head Knitting Crochet Sweater Needle Set\",\"KSh 38\",\"KSh 80\",\"53%\",\"(13)\",\"3.3 out of 5\"\n",
      "\"4pcs Bathroom/Kitchen Towel Rack,Roll Paper Holder,Towel Bars,Hook\",\"KSh 1,860\",\"KSh 3,220\",\"42%\",\"\",\"\"\n",
      "\"LED Romantic Spaceship Starry Sky Projector,Children's Bedroom Night Light-Blue\",\"KSh 880\",\"KSh 1,350\",\"35%\",\"(6)\",\"4 out of 5\"\n",
      "\"Foldable Overbed Table/Desk\",\"KSh 1,650\",\"KSh 2,150\",\"23%\",\"(14)\",\"4.4 out of 5\"\n",
      "\"LASA 3 Tier Bamboo Shoe Bench Storage Shelf\",\"KSh 2,048\",\"KSh 4,500\",\"54%\",\"(7)\",\"4.3 out of 5\"\n",
      "\"Electronic Digital Display Vernier Caliper\",\"KSh 420\",\"KSh 647\",\"35%\",\"(49)\",\"4.6 out of 5\"\n",
      "\"Portable Wardrobe Nonwoven With 3 Hanging Rods And 6 Storage Shelves\",\"KSh 2,880\",\"KSh 3,520\",\"18%\",\"(12)\",\"3.8 out of 5\"\n",
      "\"12 Litre Black Insulated Lunch Box\",\"KSh 1,350\",\"KSh 1,990\",\"32%\",\"(13)\",\"3.8 out of 5\"\n",
      "\"52 Pieces Cake Decorating Tool Set Gift Kit Baking Supplies\",\"KSh 1,758\",\"KSh 2,499\",\"30%\",\"(20)\",\"4.1 out of 5\"\n",
      "\"MultiFunctional Storage Rack Multi-layer Bookshelf\",\"KSh 2,200\",\"KSh 4,080\",\"46%\",\"\",\"\"\n",
      "\"Exfoliate And Exfoliate Face Towel - Black\",\"KSh 185\",\"KSh 382\",\"52%\",\"(9)\",\"4.3 out of 5\"\n",
      "\"12 Litre Insulated Lunch Box Grey\",\"KSh 980\",\"KSh 1,490\",\"34%\",\"(12)\",\"4.7 out of 5\"\n",
      "\"LED Eye Protection  Desk Lamp , Study, Reading, USB Fan - Double Pen Holder\",\"KSh 1,820\",\"KSh 3,490\",\"48%\",\"(9)\",\"4.3 out of 5\"\n",
      "\"53Pcs/Set Yarn Knitting Crochet Hooks With Bag - Fortune Cat\",\"KSh 1,940\",\"KSh 2,650\",\"27%\",\"(20)\",\"4.7 out of 5\"\n",
      "\"53 Pieces/Set Yarn Knitting Crochet Hooks With Bag - Pansies\",\"KSh 1,980\",\"KSh 2,699\",\"27%\",\"(32)\",\"4.5 out of 5\"\n",
      "\"DIY File Folder, Office Drawer File Holder, Pen Holder, Desktop Storage Rack\",\"KSh 1,620\",\"KSh 2,690\",\"40%\",\"(1)\",\"5 out of 5\"\n",
      "\"Classic Black Cat Cotton Hemp Pillow Case For Home Car\",\"KSh 171\",\"KSh 360\",\"53%\",\"(2)\",\"5 out of 5\"\n",
      "\"Punch-free Great Load Bearing Bathroom Storage Rack Wall Shelf-White\",\"KSh 389\",\"KSh 656\",\"41%\",\"(36)\",\"4.3 out of 5\"\n",
      "\"1/2/3 Seater Elastic Sofa Cover,Living Room/Home Decor Chair Cover-Grey\",\"KSh 1,620 - KSh 1,980\",\"KSh 2,200 - KSh 3,200\",\"38%\",\"(2)\",\"4.5 out of 5\"\n",
      "\"LASA Stainless Steel Double Wall Mount Soap Dispenser - 500ml\",\"KSh 2,750\",\"KSh 4,471\",\"38%\",\"\",\"\"\n",
      "\"4M Float Switch Water Level Controller -Water Tank\",\"KSh 475\",\"KSh 931\",\"49%\",\"\",\"\"\n",
      "\"Modern Sofa Throw Pillow Cover-45x45cm-Blue&Red\",\"KSh 238\",\"KSh 476\",\"50%\",\"\",\"\"\n",
      "\"Balloon Insert, Birthday Party Balloon Set, PU Leather\",\"KSh 610\",\"KSh 1,060\",\"42%\",\"\",\"\"\n",
      "\"Balloon Insert, Birthday Party Balloon Set, PU Leather\",\"KSh 610\",\"KSh 1,060\",\"42%\",\"\",\"\"\n",
      "\"Shower Cap Wide Elastic Band Cover Reusable Bashroom Cap\",\"KSh 2,132\",\"KSh 2,169\",\"2%\",\"\",\"\"\n",
      "\"Christmas Elk Fence Yard Lawn Decorations Cute For Holidays\",\"KSh 999\",\"KSh 2,000\",\"50%\",\"\",\"\"\n",
      "\"60W Hot Melt Glue Sprayer - Efficient And Stable Glue Dispensing\",\"KSh 1,190\",\"KSh 1,785\",\"33%\",\"\",\"\"\n",
      "\"Car Phone Charging Stand\",\"KSh 671\",\"KSh 1,316\",\"49%\",\"\",\"\"\n",
      "\"2pcs Solar Street Light Flood Light Outdoor\",\"KSh 1,200\",\"KSh 1,950\",\"38%\",\"\",\"\"\n",
      "\"Creative Owl Shape Keychain Black\",\"KSh 199\",\"KSh 504\",\"61%\",\"\",\"\"\n",
      "\"Brush & Paintbrush Cleaning Tool Pink\",\"KSh 299\",\"KSh 600\",\"50%\",\"\",\"\"\n",
      "\"Pen Grips For Kids Pen Grip Posture Correction Tool For Kids\",\"KSh 1,660\",\"KSh 1,699\",\"2%\",\"\",\"\"\n",
      "\"Pilates Cloth Bag Waterproof Durable High Capacity Purple\",\"KSh 299\",\"KSh 384\",\"22%\",\"\",\"\"\n",
      "\"Multi-purpose Rice Drainage Basket And Fruit And Vegetable Drainage Sieve\",\"KSh 1,459\",\"KSh 1,499\",\"3%\",\"\",\"\"\n",
      "\"Cute Christmas Fence Garden Decorations For Holiday Home\",\"KSh 799\",\"KSh 1,343\",\"41%\",\"\",\"\"\n",
      "\"Simple Metal Dog Art Sculpture Decoration For Home Office\",\"KSh 499\",\"KSh 900\",\"45%\",\"\",\"\"\n",
      "\"Christmas Fence Garden Decorations Outdoor For Holiday Home\",\"KSh 699\",\"KSh 1,343\",\"48%\",\"\",\"\"\n",
      "\"Angle Measuring Tool Full Metal Multi Angle Measuring Tool\",\"KSh 799\",\"KSh 1,567\",\"49%\",\"\",\"\"\n",
      "\"12V 19500rpm Handheld Electric Angle Grinder Tool - UK - Yellow/Black\",\"KSh 2,799\",\"KSh 3,810\",\"27%\",\"\",\"\"\n",
      "\"Simple Metal Dog Art Sculpture Decoration For Home Office\",\"KSh 399\",\"KSh 896\",\"55%\",\"\",\"\"\n",
      "\"5 Pieces/set Of Stainless Steel Induction Cooker Pots\",\"KSh 2,170\",\"KSh 2,500\",\"13%\",\"(6)\",\"2.5 out of 5\"\n",
      "\"Mythco 120COB Solar Wall Ligt With Motion Sensor And Remote Control 3 Modes\",\"KSh 458\",\"KSh 986\",\"54%\",\"(10)\",\"3 out of 5\"\n",
      "\"5-PCS Stainless Steel Cooking Pot Set With Steamed Slices\",\"KSh 2,115\",\"KSh 4,700\",\"55%\",\"(13)\",\"2.1 out of 5\"\n",
      "\"120W Cordless Vacuum Cleaners Handheld Electric Vacuum Cleaner\",\"KSh 445\",\"KSh 873\",\"49%\",\"(69)\",\"2.8 out of 5\"\n",
      "\"Intelligent  LED Body Sensor Wireless Lighting Night Light USB\",\"KSh 325\",\"KSh 680\",\"52%\",\"(15)\",\"2.7 out of 5\"\n",
      "\"VIC Wireless Vacuum Cleaner Dual Use For Home And Car 120W High Power Powerful\",\"KSh 1,220\",\"KSh 1,555\",\"22%\",\"(16)\",\"2.9 out of 5\"\n",
      "\"Artificial Potted Flowers Room Decorative Flowers (2 Pieces)\",\"KSh 990\",\"KSh 1,814\",\"45%\",\"(6)\",\"2.2 out of 5\"\n",
      "\"380ML USB Rechargeable Portable Small Blenders And Juicers\",\"KSh 1,000\",\"KSh 2,000\",\"50%\",\"(7)\",\"2.3 out of 5\"\n",
      "\"32PCS Portable Cordless Drill Set With Cyclic Battery Drive -26 Variable Speed\",\"KSh 3,750\",\"KSh 6,143\",\"39%\",\"(5)\",\"3 out of 5\"\n",
      "\"Agapeon Toothbrush Holder And Toothpaste Dispenser\",\"KSh 382\",\"KSh 700\",\"45%\",\"(17)\",\"2.6 out of 5\"\n",
      "\"Large Lazy Inflatable Sofa Chairs PVC Lounger Seat Bag\",\"KSh 2,300\",\"KSh 3,240\",\"29%\",\"(5)\",\"3 out of 5\"\n",
      "\"Watercolour Gold Foil Textured Print Pillow Cover\",\"KSh 345\",\"KSh 602\",\"43%\",\"(6)\",\"2.3 out of 5\"\n",
      "\"Wrought Iron Bathroom Shelf Wall Mounted Free Punch Toilet Rack\",\"KSh 509\",\"KSh 899\",\"43%\",\"(5)\",\"3 out of 5\"\n",
      "\"7-piece Set Of Storage Bags, Travel Storage Bags, Shoe Bags\",\"KSh 968\",\"KSh 1,814\",\"47%\",\"(6)\",\"2.2 out of 5\"\n",
      "\"Electric LED UV Mosquito Killer Lamp, Outdoor/Indoor Fly Killer Trap Light -USB\",\"KSh 1,570\",\"KSh 2,988\",\"47%\",\"(7)\",\"2.1 out of 5\"\n",
      "\"2PCS/LOT Solar LED Outdoor Intelligent Light Controlled Wall Lamp\",\"KSh 790\",\"KSh 1,485\",\"47%\",\"\",\"\"\n",
      "\"3PCS Rotary Scraper Thermomix For Kitchen\",\"KSh 690\",\"KSh 1,200\",\"43%\",\"\",\"\"\n",
      "\"Cushion Silicone Butt Cushion Summer Ice Cushion Honeycomb Gel Cushion\",\"KSh 1,732\",\"KSh 1,799\",\"4%\",\"\",\"\"\n",
      "\"7PCS Silicone Thumb Knife Finger Protector Vegetable Harvesting Knife\",\"KSh 230\",\"KSh 450\",\"49%\",\"\",\"\"\n",
      "\"Memory Foam Neck Pillow Cover, With Pillow Core - 50*30cm\",\"KSh 1,189\",\"KSh 2,199\",\"46%\",\"(1)\",\"3 out of 5\"\n",
      "\"Bedroom Simple Floor Hanging Clothes Rack Single Pole Hat Rack - White\",\"KSh 979\",\"KSh 1,920\",\"49%\",\"(1)\",\"5 out of 5\"\n",
      "\"5m Waterproof Spherical LED String Lights Outdoor Ball Chain Lights Party Lighting Decoration Adjustable\",\"KSh 1,460\",\"KSh 2,290\",\"36%\",\"\",\"\"\n",
      "\"2 Pairs Cowhide Split Leather Work Gloves.32℉ Or Above Welding Gloves\",\"KSh 1,666\",\"KSh 1,699\",\"2%\",\"\",\"\"\n",
      "\"Household Pineapple Peeler Peeler\",\"KSh 330\",\"KSh 647\",\"49%\",\"(1)\",\"4 out of 5\"\n",
      "\"Balloon Insert, Birthday Party Balloon Set, PU Leather\",\"KSh 610\",\"KSh 1,060\",\"42%\",\"\",\"\"\n",
      "\"Creative Owl Shape Keychain Black\",\"KSh 176\",\"KSh 345\",\"49%\",\"\",\"\"\n",
      "\"Office Chair Lumbar Back Support Spine Posture Correction Pillow Car Cushion\",\"KSh 1,466\",\"KSh 1,699\",\"14%\",\"\",\"\"\n",
      "\"Cartoon Car Decoration Cute Individuality For Car Home Desk\",\"KSh 274\",\"KSh 537\",\"49%\",\"\",\"\"\n",
      "\"Outdoor Portable Water Bottle With Medicine Box - 600ML - Black\",\"KSh 799\",\"KSh 900\",\"11%\",\"\",\"\"\n",
      "\"Angle Measuring Tool Full Metal Multi Angle Measuring Tool\",\"KSh 657\",\"KSh 1,288\",\"49%\",\"\",\"\"\n",
      "\"Wall-Mounted Toothbrush Toothpaste Holder With Multiple Slots\",\"KSh 1,468\",\"KSh 1,699\",\"14%\",\"\",\"\"\n",
      "\"Multifunctional Hanging Storage Box Storage Bag (4 Layers)\",\"KSh 630\",\"KSh 1,100\",\"43%\",\"\",\"\"\n",
      "\"Wall Clock With Hidden Safe Box\",\"KSh 850\",\"KSh 1,700\",\"50%\",\"\",\"\"\n",
      "\"Portable Wine Table With Folding Round Table\",\"KSh 1,300\",\"KSh 2,500\",\"48%\",\"\",\"\"\n",
      "\"Sewing Machine Needle Threader Stitch Insertion Tool Automatic Quick Sewing\",\"KSh 105\",\"KSh 200\",\"48%\",\"\",\"\"\n",
      "\"6 Layers Steel Pipe Assembling Dustproof Storage Shoe Cabinet\",\"KSh 899\",\"KSh 1,699\",\"47%\",\"\",\"\"\n",
      "\"6 Layers Steel Pipe Assembling Dustproof Storage Shoe Cabinet\",\"KSh 899\",\"KSh 1,699\",\"47%\",\"\",\"\"\n",
      "\"2PCS Ice Silk Square Cushion Cover Pillowcases - 65x65cm\",\"KSh 1,200\",\"KSh 2,400\",\"50%\",\"\",\"\"\n",
      "\"Wall Mount Automatic Toothpaste Dispenser Toothbrush Holder Toothpaste Squeezer\",\"KSh 1,526\",\"KSh 1,660\",\"8%\",\"\",\"\"\n",
      "\"Portable Soap Dispenser Kitchen Detergent Press Box Kitchen Tools\",\"KSh 1,462\",\"KSh 1,499\",\"2%\",\"\",\"\"\n",
      "\"4 Piece Coloured Stainless Steel Kitchenware Set\",\"KSh 248\",\"KSh 486\",\"49%\",\"\",\"\"\n",
      "\"Metal Wall Clock Silver Dial Crystal Jewelry Round Home Decoration Wall Clock\",\"KSh 3,546\",\"KSh 3,699\",\"4%\",\"\",\"\"\n",
      "\"Baby Early Education Shape And Color Cognitive Training Toys\",\"KSh 525\",\"KSh 1,029\",\"49%\",\"\",\"\"\n",
      "\"8in1 Screwdriver With LED Light\",\"KSh 1,080\",\"KSh 1,874\",\"42%\",\"\",\"\"\n",
      "\"Konka Healty Electric Kettle, 24-hour Heat Preservation,1.5L,800W, White\",\"KSh 3,640\",\"KSh 4,588\",\"21%\",\"(1)\",\"5 out of 5\"\n",
      "\"9pcs Gas Mask, For Painting, Dust, Formaldehyde Grinding, Polishing\",\"KSh 1,420\",\"KSh 2,420\",\"41%\",\"\",\"\"\n",
      "\"24 Grid Wall-mounted Sundries Organiser Fabric Closet Bag Storage Rack\",\"KSh 1,875\",\"KSh 1,899\",\"1%\",\"\",\"\"\n",
      "\"1PC Refrigerator Food Seal Pocket Fridge Bags\",\"KSh 198\",\"KSh 260\",\"24%\",\"\",\"\"\n",
      "\"LED Solar Street Light-fake Camera\",\"KSh 1,150\",\"KSh 1,737\",\"34%\",\"\",\"\"\n",
      "\"Cartoon Embroidered Mini Towel Bear Cotton Wash Cloth Hand 4pcs\",\"KSh 1,190\",\"KSh 1,810\",\"34%\",\"\",\"\"\n",
      "\"Shower Nozzle Cleaning Unclogging Needle Mini Crevice Small Hole Cleaning Brush\",\"KSh 1,658\",\"KSh 1,699\",\"2%\",\"\",\"\"\n",
      "\"Thickening Multipurpose Non Stick Easy To Clean Heat Resistant Spoon Pad\",\"KSh 1,768\",\"KSh 1,799\",\"2%\",\"\",\"\"\n",
      "\"6 In 1 Bottle Can Opener Multifunctional Easy Opener\",\"KSh 199\",\"KSh 553\",\"64%\",\"\",\"\"\n",
      "\"Wall-mounted Sticker Punch-free Plug Fixer\",\"KSh 450\",\"KSh 900\",\"50%\",\"(1)\",\"2 out of 5\"\n",
      "\"Black Simple Water Cup Wine Coaster Anti Slip Absorbent\",\"KSh 169\",\"KSh 320\",\"47%\",\"\",\"\"\n"
     ]
    }
   ],
   "source": [
    "with open(r\"Excel_jumia (1).csv\") as jumia:\n",
    "   context = jumia.read()\n",
    "   print(context)\n",
    " \n",
    "\n",
    "\n",
    "\n"
   ]
  },
  {
   "cell_type": "code",
   "execution_count": null,
   "id": "326157cd",
   "metadata": {},
   "outputs": [
    {
     "data": {
      "text/html": [
       "<div>\n",
       "<style scoped>\n",
       "    .dataframe tbody tr th:only-of-type {\n",
       "        vertical-align: middle;\n",
       "    }\n",
       "\n",
       "    .dataframe tbody tr th {\n",
       "        vertical-align: top;\n",
       "    }\n",
       "\n",
       "    .dataframe thead th {\n",
       "        text-align: right;\n",
       "    }\n",
       "</style>\n",
       "<table border=\"1\" class=\"dataframe\">\n",
       "  <thead>\n",
       "    <tr style=\"text-align: right;\">\n",
       "      <th></th>\n",
       "      <th>Product</th>\n",
       "      <th>Current price</th>\n",
       "      <th>old price</th>\n",
       "      <th>Discount</th>\n",
       "      <th>Review</th>\n",
       "      <th>Ratingd</th>\n",
       "    </tr>\n",
       "  </thead>\n",
       "  <tbody>\n",
       "    <tr>\n",
       "      <th>0</th>\n",
       "      <td>115  Piece Set Of Multifunctional Precision Sc...</td>\n",
       "      <td>KSh 950</td>\n",
       "      <td>KSh 1,525</td>\n",
       "      <td>38%</td>\n",
       "      <td>(2)</td>\n",
       "      <td>4.5 out of 5</td>\n",
       "    </tr>\n",
       "    <tr>\n",
       "      <th>1</th>\n",
       "      <td>Metal Decorative Hooks Key Hangers Entryway Wa...</td>\n",
       "      <td>KSh 527</td>\n",
       "      <td>KSh 999</td>\n",
       "      <td>47%</td>\n",
       "      <td>(14)</td>\n",
       "      <td>4.1 out of 5</td>\n",
       "    </tr>\n",
       "    <tr>\n",
       "      <th>2</th>\n",
       "      <td>Portable Mini Cordless Car Vacuum Cleaner - Blue</td>\n",
       "      <td>KSh 2,199</td>\n",
       "      <td>KSh 2,923</td>\n",
       "      <td>25%</td>\n",
       "      <td>(24)</td>\n",
       "      <td>4.6 out of 5</td>\n",
       "    </tr>\n",
       "    <tr>\n",
       "      <th>3</th>\n",
       "      <td>Weighing Scale Digital Bathroom Body Fat Scale...</td>\n",
       "      <td>KSh 1,580</td>\n",
       "      <td>KSh 2,499</td>\n",
       "      <td>37%</td>\n",
       "      <td>(7)</td>\n",
       "      <td>4.7 out of 5</td>\n",
       "    </tr>\n",
       "    <tr>\n",
       "      <th>4</th>\n",
       "      <td>Portable Home Small Air Humidifier 3-Speed Fan...</td>\n",
       "      <td>KSh 1,740</td>\n",
       "      <td>KSh 2,356</td>\n",
       "      <td>26%</td>\n",
       "      <td>(5)</td>\n",
       "      <td>4.8 out of 5</td>\n",
       "    </tr>\n",
       "  </tbody>\n",
       "</table>\n",
       "</div>"
      ],
      "text/plain": [
       "                                             Product Current price  old price  \\\n",
       "0  115  Piece Set Of Multifunctional Precision Sc...       KSh 950  KSh 1,525   \n",
       "1  Metal Decorative Hooks Key Hangers Entryway Wa...       KSh 527    KSh 999   \n",
       "2   Portable Mini Cordless Car Vacuum Cleaner - Blue     KSh 2,199  KSh 2,923   \n",
       "3  Weighing Scale Digital Bathroom Body Fat Scale...     KSh 1,580  KSh 2,499   \n",
       "4  Portable Home Small Air Humidifier 3-Speed Fan...     KSh 1,740  KSh 2,356   \n",
       "\n",
       "  Discount Review       Ratingd  \n",
       "0      38%    (2)  4.5 out of 5  \n",
       "1      47%   (14)  4.1 out of 5  \n",
       "2      25%   (24)  4.6 out of 5  \n",
       "3      37%    (7)  4.7 out of 5  \n",
       "4      26%    (5)  4.8 out of 5  "
      ]
     },
     "execution_count": 25,
     "metadata": {},
     "output_type": "execute_result"
    }
   ],
   "source": [
    "import pandas as pd\n",
    "excel_jumia_1 = pd.read_csv(r\"/Users/ABILENA/getStarted/Excel_jumia (1).csv\")\n",
    "excel_jumia_1.head() # .head gives you the first 5 rows automatically, .tail gives you the last 5 rows automatically\n"
   ]
  },
  {
   "cell_type": "code",
   "execution_count": 3,
   "id": "590cd440",
   "metadata": {},
   "outputs": [
    {
     "name": "stdout",
     "output_type": "stream",
     "text": [
      "your net is 168000.0\n"
     ]
    }
   ],
   "source": [
    "#### ur paying taxes 44%, budget = 300,000 output = net \n",
    "\n",
    "salary = int(input(\"whats your salary?\"))\n",
    "net= salary - (salary*0.44)\n",
    "print(f'your net is {net}')\n"
   ]
  },
  {
   "cell_type": "code",
   "execution_count": null,
   "id": "f2cc4a2c",
   "metadata": {},
   "outputs": [
    {
     "name": "stdout",
     "output_type": "stream",
     "text": [
      "sam\n",
      "claire\n",
      "jane\n",
      "mark\n",
      "rick\n"
     ]
    }
   ],
   "source": [
    "names = {\"sam\",\"claire\",\"jane\",\"mark\",\"rick\"}\n",
    "for name in names:\n",
    "    print(name)"
   ]
  },
  {
   "cell_type": "code",
   "execution_count": 9,
   "id": "9f91100e",
   "metadata": {},
   "outputs": [
    {
     "name": "stdout",
     "output_type": "stream",
     "text": [
      "19\n",
      "20\n",
      "21\n",
      "22\n",
      "23\n",
      "24\n",
      "25\n"
     ]
    }
   ],
   "source": [
    "nums = range(19,51)\n",
    "count = 19\n",
    "\n",
    "while count <= 25: \n",
    "    print(count)\n",
    "\n",
    "    count += 1\n",
    "    \n"
   ]
  }
 ],
 "metadata": {
  "kernelspec": {
   "display_name": "base",
   "language": "python",
   "name": "python3"
  },
  "language_info": {
   "codemirror_mode": {
    "name": "ipython",
    "version": 3
   },
   "file_extension": ".py",
   "mimetype": "text/x-python",
   "name": "python",
   "nbconvert_exporter": "python",
   "pygments_lexer": "ipython3",
   "version": "3.13.5"
  }
 },
 "nbformat": 4,
 "nbformat_minor": 5
}
