{
 "cells": [
  {
   "cell_type": "markdown",
   "id": "0e39db43",
   "metadata": {},
   "source": [
    "# pandas and numpy\n",
    "-PANDAS -  python library for data analytics with 2 data structures.\n",
    "-series - column\n",
    "-dataframe - a table"
   ]
  },
  {
   "cell_type": "code",
   "execution_count": null,
   "id": "f3b855e9",
   "metadata": {},
   "outputs": [
    {
     "data": {
      "text/html": [
       "<div>\n",
       "<style scoped>\n",
       "    .dataframe tbody tr th:only-of-type {\n",
       "        vertical-align: middle;\n",
       "    }\n",
       "\n",
       "    .dataframe tbody tr th {\n",
       "        vertical-align: top;\n",
       "    }\n",
       "\n",
       "    .dataframe thead th {\n",
       "        text-align: right;\n",
       "    }\n",
       "</style>\n",
       "<table border=\"1\" class=\"dataframe\">\n",
       "  <thead>\n",
       "    <tr style=\"text-align: right;\">\n",
       "      <th></th>\n",
       "      <th>Product</th>\n",
       "      <th>Current price</th>\n",
       "      <th>old price</th>\n",
       "      <th>Discount</th>\n",
       "      <th>Review</th>\n",
       "      <th>Ratingd</th>\n",
       "    </tr>\n",
       "  </thead>\n",
       "  <tbody>\n",
       "    <tr>\n",
       "      <th>0</th>\n",
       "      <td>115  Piece Set Of Multifunctional Precision Sc...</td>\n",
       "      <td>KSh 950</td>\n",
       "      <td>KSh 1,525</td>\n",
       "      <td>38%</td>\n",
       "      <td>(2)</td>\n",
       "      <td>4.5 out of 5</td>\n",
       "    </tr>\n",
       "    <tr>\n",
       "      <th>1</th>\n",
       "      <td>Metal Decorative Hooks Key Hangers Entryway Wa...</td>\n",
       "      <td>KSh 527</td>\n",
       "      <td>KSh 999</td>\n",
       "      <td>47%</td>\n",
       "      <td>(14)</td>\n",
       "      <td>4.1 out of 5</td>\n",
       "    </tr>\n",
       "    <tr>\n",
       "      <th>2</th>\n",
       "      <td>Portable Mini Cordless Car Vacuum Cleaner - Blue</td>\n",
       "      <td>KSh 2,199</td>\n",
       "      <td>KSh 2,923</td>\n",
       "      <td>25%</td>\n",
       "      <td>(24)</td>\n",
       "      <td>4.6 out of 5</td>\n",
       "    </tr>\n",
       "    <tr>\n",
       "      <th>3</th>\n",
       "      <td>Weighing Scale Digital Bathroom Body Fat Scale...</td>\n",
       "      <td>KSh 1,580</td>\n",
       "      <td>KSh 2,499</td>\n",
       "      <td>37%</td>\n",
       "      <td>(7)</td>\n",
       "      <td>4.7 out of 5</td>\n",
       "    </tr>\n",
       "    <tr>\n",
       "      <th>4</th>\n",
       "      <td>Portable Home Small Air Humidifier 3-Speed Fan...</td>\n",
       "      <td>KSh 1,740</td>\n",
       "      <td>KSh 2,356</td>\n",
       "      <td>26%</td>\n",
       "      <td>(5)</td>\n",
       "      <td>4.8 out of 5</td>\n",
       "    </tr>\n",
       "  </tbody>\n",
       "</table>\n",
       "</div>"
      ],
      "text/plain": [
       "                                             Product Current price  old price  \\\n",
       "0  115  Piece Set Of Multifunctional Precision Sc...       KSh 950  KSh 1,525   \n",
       "1  Metal Decorative Hooks Key Hangers Entryway Wa...       KSh 527    KSh 999   \n",
       "2   Portable Mini Cordless Car Vacuum Cleaner - Blue     KSh 2,199  KSh 2,923   \n",
       "3  Weighing Scale Digital Bathroom Body Fat Scale...     KSh 1,580  KSh 2,499   \n",
       "4  Portable Home Small Air Humidifier 3-Speed Fan...     KSh 1,740  KSh 2,356   \n",
       "\n",
       "  Discount Review       Ratingd  \n",
       "0      38%    (2)  4.5 out of 5  \n",
       "1      47%   (14)  4.1 out of 5  \n",
       "2      25%   (24)  4.6 out of 5  \n",
       "3      37%    (7)  4.7 out of 5  \n",
       "4      26%    (5)  4.8 out of 5  "
      ]
     },
     "execution_count": 1,
     "metadata": {},
     "output_type": "execute_result"
    }
   ],
   "source": [
    "import pandas as pd\n",
    "df =pd.read_csv(r\"Excel_jumia (1).csv\")\n",
    "\n",
    "df.head() #first 5 rows"
   ]
  },
  {
   "cell_type": "code",
   "execution_count": null,
   "id": "768e67ec",
   "metadata": {},
   "outputs": [
    {
     "data": {
      "text/html": [
       "<div>\n",
       "<style scoped>\n",
       "    .dataframe tbody tr th:only-of-type {\n",
       "        vertical-align: middle;\n",
       "    }\n",
       "\n",
       "    .dataframe tbody tr th {\n",
       "        vertical-align: top;\n",
       "    }\n",
       "\n",
       "    .dataframe thead th {\n",
       "        text-align: right;\n",
       "    }\n",
       "</style>\n",
       "<table border=\"1\" class=\"dataframe\">\n",
       "  <thead>\n",
       "    <tr style=\"text-align: right;\">\n",
       "      <th></th>\n",
       "      <th>Product</th>\n",
       "      <th>Current price</th>\n",
       "      <th>old price</th>\n",
       "      <th>Discount</th>\n",
       "      <th>Review</th>\n",
       "      <th>Ratingd</th>\n",
       "    </tr>\n",
       "  </thead>\n",
       "  <tbody>\n",
       "    <tr>\n",
       "      <th>110</th>\n",
       "      <td>Shower Nozzle Cleaning Unclogging Needle Mini ...</td>\n",
       "      <td>KSh 1,658</td>\n",
       "      <td>KSh 1,699</td>\n",
       "      <td>2%</td>\n",
       "      <td>NaN</td>\n",
       "      <td>NaN</td>\n",
       "    </tr>\n",
       "    <tr>\n",
       "      <th>111</th>\n",
       "      <td>Thickening Multipurpose Non Stick Easy To Clea...</td>\n",
       "      <td>KSh 1,768</td>\n",
       "      <td>KSh 1,799</td>\n",
       "      <td>2%</td>\n",
       "      <td>NaN</td>\n",
       "      <td>NaN</td>\n",
       "    </tr>\n",
       "    <tr>\n",
       "      <th>112</th>\n",
       "      <td>6 In 1 Bottle Can Opener Multifunctional Easy ...</td>\n",
       "      <td>KSh 199</td>\n",
       "      <td>KSh 553</td>\n",
       "      <td>64%</td>\n",
       "      <td>NaN</td>\n",
       "      <td>NaN</td>\n",
       "    </tr>\n",
       "    <tr>\n",
       "      <th>113</th>\n",
       "      <td>Wall-mounted Sticker Punch-free Plug Fixer</td>\n",
       "      <td>KSh 450</td>\n",
       "      <td>KSh 900</td>\n",
       "      <td>50%</td>\n",
       "      <td>(1)</td>\n",
       "      <td>2 out of 5</td>\n",
       "    </tr>\n",
       "    <tr>\n",
       "      <th>114</th>\n",
       "      <td>Black Simple Water Cup Wine Coaster Anti Slip ...</td>\n",
       "      <td>KSh 169</td>\n",
       "      <td>KSh 320</td>\n",
       "      <td>47%</td>\n",
       "      <td>NaN</td>\n",
       "      <td>NaN</td>\n",
       "    </tr>\n",
       "  </tbody>\n",
       "</table>\n",
       "</div>"
      ],
      "text/plain": [
       "                                               Product Current price  \\\n",
       "110  Shower Nozzle Cleaning Unclogging Needle Mini ...     KSh 1,658   \n",
       "111  Thickening Multipurpose Non Stick Easy To Clea...     KSh 1,768   \n",
       "112  6 In 1 Bottle Can Opener Multifunctional Easy ...       KSh 199   \n",
       "113         Wall-mounted Sticker Punch-free Plug Fixer       KSh 450   \n",
       "114  Black Simple Water Cup Wine Coaster Anti Slip ...       KSh 169   \n",
       "\n",
       "     old price Discount Review     Ratingd  \n",
       "110  KSh 1,699       2%    NaN         NaN  \n",
       "111  KSh 1,799       2%    NaN         NaN  \n",
       "112    KSh 553      64%    NaN         NaN  \n",
       "113    KSh 900      50%    (1)  2 out of 5  \n",
       "114    KSh 320      47%    NaN         NaN  "
      ]
     },
     "execution_count": 2,
     "metadata": {},
     "output_type": "execute_result"
    }
   ],
   "source": [
    "df.tail() #last 5 rows"
   ]
  },
  {
   "cell_type": "code",
   "execution_count": 3,
   "id": "09f3e700",
   "metadata": {},
   "outputs": [
    {
     "data": {
      "text/plain": [
       "(115, 6)"
      ]
     },
     "execution_count": 3,
     "metadata": {},
     "output_type": "execute_result"
    }
   ],
   "source": [
    "#to see no. of rows and columns\n",
    "df.shape"
   ]
  },
  {
   "cell_type": "code",
   "execution_count": 5,
   "id": "11b7ff22",
   "metadata": {},
   "outputs": [
    {
     "name": "stdout",
     "output_type": "stream",
     "text": [
      "<class 'pandas.core.frame.DataFrame'>\n",
      "RangeIndex: 115 entries, 0 to 114\n",
      "Data columns (total 6 columns):\n",
      " #   Column         Non-Null Count  Dtype \n",
      "---  ------         --------------  ----- \n",
      " 0   Product        115 non-null    object\n",
      " 1   Current price  115 non-null    object\n",
      " 2   old price      115 non-null    object\n",
      " 3   Discount       115 non-null    object\n",
      " 4   Review         57 non-null     object\n",
      " 5   Ratingd        57 non-null     object\n",
      "dtypes: object(6)\n",
      "memory usage: 5.5+ KB\n"
     ]
    }
   ],
   "source": [
    "#to get more info about your dataset\n",
    "\n",
    "df.info()"
   ]
  },
  {
   "cell_type": "code",
   "execution_count": null,
   "id": "98b83b60",
   "metadata": {},
   "outputs": [
    {
     "data": {
      "text/plain": [
       "Product           0\n",
       "Current price     0\n",
       "old price         0\n",
       "Discount          0\n",
       "Review           58\n",
       "Ratingd          58\n",
       "dtype: int64"
      ]
     },
     "execution_count": 7,
     "metadata": {},
     "output_type": "execute_result"
    }
   ],
   "source": [
    "#checking for nulls\n",
    "df.isnull().sum()"
   ]
  },
  {
   "cell_type": "markdown",
   "id": "28df8569",
   "metadata": {},
   "source": [
    "# RULES WHEN FILLING IN NULL VALUES\n",
    " - statistical distributions -> df.sth\n",
    " - fill missing data - u can fill using either mean, mode ,median, unknown or 0\n",
    " - we use mean when our data is symmetrical(no outliers)\n",
    " - we use mode when certain data shows up most of the time\n",
    " - we use median when your data has outliers - cause median is never affected by outliers\n",
    " - use zero when using numerical data that you know your suupposed touse zeroes\n",
    "- use unknown for categorical data\n"
   ]
  },
  {
   "cell_type": "code",
   "execution_count": 16,
   "id": "ed9230a0",
   "metadata": {},
   "outputs": [
    {
     "ename": "TypeError",
     "evalue": "'NoneType' object is not subscriptable",
     "output_type": "error",
     "traceback": [
      "\u001b[0;31m---------------------------------------------------------------------------\u001b[0m",
      "\u001b[0;31mTypeError\u001b[0m                                 Traceback (most recent call last)",
      "Cell \u001b[0;32mIn[16], line 1\u001b[0m\n\u001b[0;32m----> 1\u001b[0m df[\u001b[38;5;124m\"\u001b[39m\u001b[38;5;124mReview\u001b[39m\u001b[38;5;124m\"\u001b[39m] \u001b[38;5;241m=\u001b[39m df[\u001b[38;5;124m\"\u001b[39m\u001b[38;5;124mReview\u001b[39m\u001b[38;5;124m\"\u001b[39m]\u001b[38;5;241m.\u001b[39mfillna(\u001b[38;5;124m\"\u001b[39m\u001b[38;5;124munknown\u001b[39m\u001b[38;5;124m\"\u001b[39m)\n\u001b[1;32m      2\u001b[0m df[\u001b[38;5;124m\"\u001b[39m\u001b[38;5;124mRatingd\u001b[39m\u001b[38;5;124m\"\u001b[39m] \u001b[38;5;241m=\u001b[39m df[\u001b[38;5;124m\"\u001b[39m\u001b[38;5;124mRatingd\u001b[39m\u001b[38;5;124m\"\u001b[39m]\u001b[38;5;241m.\u001b[39mfillna(\u001b[38;5;124m\"\u001b[39m\u001b[38;5;124munknown\u001b[39m\u001b[38;5;124m\"\u001b[39m)\n\u001b[1;32m      3\u001b[0m df\u001b[38;5;241m.\u001b[39minfo()\n",
      "\u001b[0;31mTypeError\u001b[0m: 'NoneType' object is not subscriptable"
     ]
    }
   ],
   "source": [
    "df[\"Review\"] = df[\"Review\"].fillna(\"unknown\")\n",
    "df[\"Ratingd\"] = df[\"Ratingd\"].fillna(\"unknown\")\n",
    "df.info()\n",
    "\n"
   ]
  }
 ],
 "metadata": {
  "kernelspec": {
   "display_name": "base",
   "language": "python",
   "name": "python3"
  },
  "language_info": {
   "codemirror_mode": {
    "name": "ipython",
    "version": 3
   },
   "file_extension": ".py",
   "mimetype": "text/x-python",
   "name": "python",
   "nbconvert_exporter": "python",
   "pygments_lexer": "ipython3",
   "version": "3.13.5"
  }
 },
 "nbformat": 4,
 "nbformat_minor": 5
}
