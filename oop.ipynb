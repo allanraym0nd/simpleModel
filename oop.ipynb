{
 "cells": [
  {
   "cell_type": "markdown",
   "id": "20d3ae71",
   "metadata": {},
   "source": [
    "# OBJECT ORIENTED PROGRAMMING LANGUAGE\n",
    "- Class - a blueprint for creating objects\n",
    "-Behaviour(methods)\n",
    "-Data(attributes)\n",
    "-Method - function in a class\n",
    "-We return functions \n",
    "-Parameter - input when defining a function\n",
    "-Argument - input when calling a function\n",
    "-Return - Stores output until u call the function"
   ]
  },
  {
   "cell_type": "code",
   "execution_count": null,
   "id": "725e7a63",
   "metadata": {},
   "outputs": [],
   "source": [
    "class Person:\n",
    "    def __init__(self,name,age): #constructor method.self refers to object being made\n",
    "        # self - instance\n",
    "        self.name = name #attribute\n",
    "        self.age = age\n",
    "\n",
    "        #self - parameter\n",
    "    def greet(self):\n",
    "        return f\"Hi, my name is {self.name} and im {self.age} years old\""
   ]
  },
  {
   "cell_type": "code",
   "execution_count": 3,
   "id": "6968418a",
   "metadata": {},
   "outputs": [
    {
     "name": "stdout",
     "output_type": "stream",
     "text": [
      "Hi, my name is Wyc and im 28 years old\n"
     ]
    }
   ],
   "source": [
    "#define variable and init class\n",
    "person_1 = Person(\"Wyc\",28)\n",
    "print(person_1.greet())\n"
   ]
  },
  {
   "cell_type": "code",
   "execution_count": 4,
   "id": "09db6e4b",
   "metadata": {},
   "outputs": [],
   "source": [
    "class Dog:\n",
    "    def __init__(self,name,breed,age):\n",
    "        self.name = name\n",
    "        self.breed = breed\n",
    "        self.age = age\n",
    "    \n",
    "    def bark(self):\n",
    "        return f\"Woof! i'm {self.name}, a {self.breed}, and im {self.age} years old\"\n",
    "\n"
   ]
  },
  {
   "cell_type": "code",
   "execution_count": 6,
   "id": "fbc0a664",
   "metadata": {},
   "outputs": [
    {
     "name": "stdout",
     "output_type": "stream",
     "text": [
      "Woof! i'm Squishy, a Chiwawa, and im 50 years old\n"
     ]
    }
   ],
   "source": [
    "dog_1 = Dog(\"Squishy\",\"Chiwawa\",50)\n",
    "print(dog_1.bark())"
   ]
  },
  {
   "cell_type": "code",
   "execution_count": 9,
   "id": "2e495859",
   "metadata": {},
   "outputs": [],
   "source": [
    "class Rectangle:\n",
    "    def __init__(self,length,width):\n",
    "        self.length = length\n",
    "        self.width = width\n",
    "\n",
    "    def Area(self):\n",
    "        return self.length * self.width\n",
    "        "
   ]
  },
  {
   "cell_type": "code",
   "execution_count": 10,
   "id": "3316f27e",
   "metadata": {},
   "outputs": [
    {
     "name": "stdout",
     "output_type": "stream",
     "text": [
      "150\n"
     ]
    }
   ],
   "source": [
    "rectangle_1 = Rectangle(10,15)\n",
    "print(rectangle_1.Area())"
   ]
  },
  {
   "cell_type": "code",
   "execution_count": 13,
   "id": "11a23598",
   "metadata": {},
   "outputs": [],
   "source": [
    "class Circle:\n",
    "    def __init__(self,radius):\n",
    "        self.radius = radius\n",
    "        \n",
    "\n",
    "    def Area(self):\n",
    "        return 1/2 * 3.14 * self.radius * self.radius"
   ]
  },
  {
   "cell_type": "code",
   "execution_count": 14,
   "id": "387c3837",
   "metadata": {},
   "outputs": [
    {
     "name": "stdout",
     "output_type": "stream",
     "text": [
      "157.0\n"
     ]
    }
   ],
   "source": [
    "circle_1 = Circle(10)\n",
    "print(circle_1.Area())"
   ]
  }
 ],
 "metadata": {
  "kernelspec": {
   "display_name": "base",
   "language": "python",
   "name": "python3"
  },
  "language_info": {
   "codemirror_mode": {
    "name": "ipython",
    "version": 3
   },
   "file_extension": ".py",
   "mimetype": "text/x-python",
   "name": "python",
   "nbconvert_exporter": "python",
   "pygments_lexer": "ipython3",
   "version": "3.13.5"
  }
 },
 "nbformat": 4,
 "nbformat_minor": 5
}
