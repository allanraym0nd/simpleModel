{
 "cells": [
  {
   "cell_type": "markdown",
   "id": "28f94585",
   "metadata": {},
   "source": [
    "# Decorators\n",
    "\n",
    "- A function that takes another function and adds a behaviour to it."
   ]
  },
  {
   "cell_type": "code",
   "execution_count": 4,
   "id": "f83b7a9c",
   "metadata": {},
   "outputs": [],
   "source": [
    "def logger (func): #decorator - outer function\n",
    "    def Wrapper():\n",
    "        print(\"Function is being called\")\n",
    "        func()\n",
    "    return Wrapper\n"
   ]
  },
  {
   "cell_type": "code",
   "execution_count": 5,
   "id": "4c8df95a",
   "metadata": {},
   "outputs": [
    {
     "name": "stdout",
     "output_type": "stream",
     "text": [
      "Function is being called\n",
      "Hello\n"
     ]
    }
   ],
   "source": [
    "@logger \n",
    "def say_hello():\n",
    "    print(\"Hello\")\n",
    "say_hello()"
   ]
  },
  {
   "cell_type": "markdown",
   "id": "bbf0482d",
   "metadata": {},
   "source": [
    "### INHERITANCE IN CLASSES"
   ]
  },
  {
   "cell_type": "code",
   "execution_count": 6,
   "id": "c94d997b",
   "metadata": {},
   "outputs": [],
   "source": [
    "class Animal:\n",
    "    def __init__(self,name):\n",
    "        self.name = name\n",
    "    \n",
    "    def speak(self):\n",
    "        return f\"{self.name} makes a sound\""
   ]
  },
  {
   "cell_type": "code",
   "execution_count": 8,
   "id": "87e1ebe5",
   "metadata": {},
   "outputs": [],
   "source": [
    "# child class - inherits from animal class(parent)\n",
    "class Dog(Animal): \n",
    "    def speak(self):\n",
    "        return f\"{self.name} says Woof\"\n"
   ]
  },
  {
   "cell_type": "code",
   "execution_count": 9,
   "id": "609f2ebd",
   "metadata": {},
   "outputs": [
    {
     "name": "stdout",
     "output_type": "stream",
     "text": [
      "Buddy says Woof\n"
     ]
    }
   ],
   "source": [
    "dog_1 = Dog(\"Buddy\")\n",
    "print(dog_1.speak())"
   ]
  },
  {
   "cell_type": "code",
   "execution_count": 10,
   "id": "83aa078c",
   "metadata": {},
   "outputs": [],
   "source": [
    "class Cat(Animal): \n",
    "    def speak(self):\n",
    "        return f\"{self.name} says meow\"\n"
   ]
  },
  {
   "cell_type": "code",
   "execution_count": 11,
   "id": "89b480c0",
   "metadata": {},
   "outputs": [
    {
     "name": "stdout",
     "output_type": "stream",
     "text": [
      "Buddy says Woof\n"
     ]
    }
   ],
   "source": [
    "cat_1 = Dog(\"Buddy\")\n",
    "print(cat_1.speak())"
   ]
  }
 ],
 "metadata": {
  "kernelspec": {
   "display_name": "base",
   "language": "python",
   "name": "python3"
  },
  "language_info": {
   "codemirror_mode": {
    "name": "ipython",
    "version": 3
   },
   "file_extension": ".py",
   "mimetype": "text/x-python",
   "name": "python",
   "nbconvert_exporter": "python",
   "pygments_lexer": "ipython3",
   "version": "3.13.5"
  }
 },
 "nbformat": 4,
 "nbformat_minor": 5
}
